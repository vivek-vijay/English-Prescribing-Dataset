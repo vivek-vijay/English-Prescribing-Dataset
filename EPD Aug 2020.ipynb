{
 "cells": [
  {
   "cell_type": "markdown",
   "metadata": {},
   "source": [
    "# Analysis of practice level prescribing of triptan drugs\n",
    "\n",
    "[English Prescribing Dataset](https://opendata.nhsbsa.net/dataset/english-prescribing-data-epd)\n",
    "\n",
    "[Drug Tariff Nov 2020](https://www.nhsbsa.nhs.uk/sites/default/files/2020-10/Drug%20Tariff%20November%202020.pdf)\n",
    "\n",
    "[API call in R](https://gitlab.com/nhsbsa/insight/open-data-portal-api/-/blob/master/OpenDataAPIQuery.R)\n",
    "\n",
    "**NIC (from NHSBSA website)**: \"The amount that would be paid using the basic price of the prescribed drug or appliance and the quantity prescribed. Sometimes called the 'Net Ingredient Cost' (NIC). **The basic price is given either in the Drug Tariff or is determined from prices published by manufacturers, wholesalers or suppliers.** Basic price is set out in Parts 8 and 9 of the Drug Tariff. **For any drugs or appliances not in Part 8, the price is usually taken from the manufacturer, wholesaler or supplier of the product.**\""
   ]
  },
  {
   "cell_type": "code",
   "execution_count": 1,
   "metadata": {},
   "outputs": [],
   "source": [
    "import numpy as np\n",
    "import pandas as pd\n",
    "import seaborn as sns\n",
    "import matplotlib.pyplot as plt\n",
    "import folium\n",
    "%matplotlib inline\n",
    "sns.set(color_codes=True)"
   ]
  },
  {
   "cell_type": "code",
   "execution_count": 2,
   "metadata": {},
   "outputs": [],
   "source": [
    "pd.set_option('display.max_columns', 11)"
   ]
  },
  {
   "cell_type": "code",
   "execution_count": 3,
   "metadata": {},
   "outputs": [],
   "source": [
    "df = pd.read_csv(\"./data/EPD_202008.csv\", low_memory = False)"
   ]
  },
  {
   "cell_type": "code",
   "execution_count": 4,
   "metadata": {},
   "outputs": [],
   "source": [
    "df.drop([\"REGIONAL_OFFICE_NAME\", \"REGIONAL_OFFICE_CODE\", 'STP_NAME', 'STP_CODE', 'PCO_NAME', 'PCO_CODE', 'PRACTICE_NAME','ADDRESS_1', 'ADDRESS_2', 'ADDRESS_3', 'ADDRESS_4', 'ADQUSAGE', 'POSTCODE', 'BNF_CODE', 'BNF_CHAPTER_PLUS_CODE', 'BNF_CODE', 'BNF_CHAPTER_PLUS_CODE', 'BNF_CHEMICAL_SUBSTANCE'], axis = 1, inplace = True)"
   ]
  },
  {
   "cell_type": "code",
   "execution_count": 5,
   "metadata": {},
   "outputs": [],
   "source": [
    "df.columns = [x.lower() for x in df.columns]"
   ]
  },
  {
   "cell_type": "code",
   "execution_count": 6,
   "metadata": {},
   "outputs": [],
   "source": [
    "df.rename(columns = {\"chemical_substance_bnf_descr\":\"drug\" , \"bnf_description\":\"drug_desc\"}, inplace = True)"
   ]
  },
  {
   "cell_type": "code",
   "execution_count": 7,
   "metadata": {},
   "outputs": [],
   "source": [
    "df['normalised_nic'] = df['nic']/df['total_quantity']"
   ]
  },
  {
   "cell_type": "code",
   "execution_count": 8,
   "metadata": {},
   "outputs": [],
   "source": [
    "df['normalised_nic'] = df['normalised_nic'].round(2)"
   ]
  },
  {
   "cell_type": "code",
   "execution_count": 10,
   "metadata": {},
   "outputs": [],
   "source": [
    "triptan_df = df[df[\"drug\"].str.contains(\"triptan\",na=False)]\n",
    "triptan_df = triptan_df[~triptan_df[\"drug\"].str.contains(\"Oxitriptan\")]"
   ]
  },
  {
   "cell_type": "markdown",
   "metadata": {},
   "source": [
    "**88336 prescriptions for triptan drugs across England in August 2020**\n",
    "\n",
    "- 47% Sumatriptan\n",
    "- 20% Zolmitriptan\n",
    "- 19% Rizatriptan\n",
    "- 7.2% Naratriptan\n",
    "- 3.4% Frovatriptan\n",
    "- 2.4% Almotriptan\n",
    "- 1.0% Eletriptan\n",
    "\n",
    "Total cost of triptan prescriptions in the month:"
   ]
  },
  {
   "cell_type": "code",
   "execution_count": 11,
   "metadata": {},
   "outputs": [
    {
     "data": {
      "text/plain": [
       "Sumatriptan succinate        0.470624\n",
       "Zolmitriptan                 0.201435\n",
       "Rizatriptan                  0.187387\n",
       "Naratriptan hydrochloride    0.071930\n",
       "Frovatriptan                 0.034369\n",
       "Almotriptan                  0.024135\n",
       "Eletriptan                   0.010120\n",
       "Name: drug, dtype: float64"
      ]
     },
     "execution_count": 11,
     "metadata": {},
     "output_type": "execute_result"
    }
   ],
   "source": [
    "triptan_df[\"drug\"].value_counts(normalize=True)"
   ]
  },
  {
   "cell_type": "code",
   "execution_count": 12,
   "metadata": {},
   "outputs": [],
   "source": [
    "triptan_grp = triptan_df.groupby([\"drug\"])"
   ]
  },
  {
   "cell_type": "code",
   "execution_count": 13,
   "metadata": {},
   "outputs": [
    {
     "data": {
      "text/html": [
       "<div>\n",
       "<style scoped>\n",
       "    .dataframe tbody tr th:only-of-type {\n",
       "        vertical-align: middle;\n",
       "    }\n",
       "\n",
       "    .dataframe tbody tr th {\n",
       "        vertical-align: top;\n",
       "    }\n",
       "\n",
       "    .dataframe thead th {\n",
       "        text-align: right;\n",
       "    }\n",
       "</style>\n",
       "<table border=\"1\" class=\"dataframe\">\n",
       "  <thead>\n",
       "    <tr style=\"text-align: right;\">\n",
       "      <th></th>\n",
       "      <th>year_month</th>\n",
       "      <th>practice_code</th>\n",
       "      <th>drug</th>\n",
       "      <th>drug_desc</th>\n",
       "      <th>quantity</th>\n",
       "      <th>items</th>\n",
       "      <th>total_quantity</th>\n",
       "      <th>nic</th>\n",
       "      <th>actual_cost</th>\n",
       "      <th>unidentified</th>\n",
       "      <th>normalised_nic</th>\n",
       "    </tr>\n",
       "  </thead>\n",
       "  <tbody>\n",
       "    <tr>\n",
       "      <th>1255</th>\n",
       "      <td>202008</td>\n",
       "      <td>L83089</td>\n",
       "      <td>Rizatriptan</td>\n",
       "      <td>Rizatriptan 10mg tablets</td>\n",
       "      <td>12.0</td>\n",
       "      <td>1</td>\n",
       "      <td>12.0</td>\n",
       "      <td>15.08</td>\n",
       "      <td>14.03370</td>\n",
       "      <td>N</td>\n",
       "      <td>1.26</td>\n",
       "    </tr>\n",
       "    <tr>\n",
       "      <th>1256</th>\n",
       "      <td>202008</td>\n",
       "      <td>L83089</td>\n",
       "      <td>Rizatriptan</td>\n",
       "      <td>Rizatriptan 10mg tablets</td>\n",
       "      <td>6.0</td>\n",
       "      <td>3</td>\n",
       "      <td>18.0</td>\n",
       "      <td>22.62</td>\n",
       "      <td>21.06915</td>\n",
       "      <td>N</td>\n",
       "      <td>1.26</td>\n",
       "    </tr>\n",
       "    <tr>\n",
       "      <th>1257</th>\n",
       "      <td>202008</td>\n",
       "      <td>L83089</td>\n",
       "      <td>Rizatriptan</td>\n",
       "      <td>Rizatriptan 10mg oral lyophilisates sugar free</td>\n",
       "      <td>6.0</td>\n",
       "      <td>2</td>\n",
       "      <td>12.0</td>\n",
       "      <td>53.48</td>\n",
       "      <td>49.75020</td>\n",
       "      <td>N</td>\n",
       "      <td>4.46</td>\n",
       "    </tr>\n",
       "    <tr>\n",
       "      <th>1258</th>\n",
       "      <td>202008</td>\n",
       "      <td>L83089</td>\n",
       "      <td>Rizatriptan</td>\n",
       "      <td>Rizatriptan 10mg orodispersible tablets sugar ...</td>\n",
       "      <td>6.0</td>\n",
       "      <td>1</td>\n",
       "      <td>6.0</td>\n",
       "      <td>10.40</td>\n",
       "      <td>9.68226</td>\n",
       "      <td>N</td>\n",
       "      <td>1.73</td>\n",
       "    </tr>\n",
       "    <tr>\n",
       "      <th>1259</th>\n",
       "      <td>202008</td>\n",
       "      <td>L83089</td>\n",
       "      <td>Rizatriptan</td>\n",
       "      <td>Rizatriptan 10mg orodispersible tablets sugar ...</td>\n",
       "      <td>12.0</td>\n",
       "      <td>1</td>\n",
       "      <td>12.0</td>\n",
       "      <td>20.80</td>\n",
       "      <td>19.35212</td>\n",
       "      <td>N</td>\n",
       "      <td>1.73</td>\n",
       "    </tr>\n",
       "    <tr>\n",
       "      <th>...</th>\n",
       "      <td>...</td>\n",
       "      <td>...</td>\n",
       "      <td>...</td>\n",
       "      <td>...</td>\n",
       "      <td>...</td>\n",
       "      <td>...</td>\n",
       "      <td>...</td>\n",
       "      <td>...</td>\n",
       "      <td>...</td>\n",
       "      <td>...</td>\n",
       "      <td>...</td>\n",
       "    </tr>\n",
       "    <tr>\n",
       "      <th>16676507</th>\n",
       "      <td>202008</td>\n",
       "      <td>H85020</td>\n",
       "      <td>Rizatriptan</td>\n",
       "      <td>Rizatriptan 10mg tablets</td>\n",
       "      <td>12.0</td>\n",
       "      <td>2</td>\n",
       "      <td>24.0</td>\n",
       "      <td>30.16</td>\n",
       "      <td>28.06740</td>\n",
       "      <td>N</td>\n",
       "      <td>1.26</td>\n",
       "    </tr>\n",
       "    <tr>\n",
       "      <th>16676508</th>\n",
       "      <td>202008</td>\n",
       "      <td>H85020</td>\n",
       "      <td>Rizatriptan</td>\n",
       "      <td>Rizatriptan 10mg tablets</td>\n",
       "      <td>6.0</td>\n",
       "      <td>1</td>\n",
       "      <td>6.0</td>\n",
       "      <td>7.54</td>\n",
       "      <td>7.02305</td>\n",
       "      <td>N</td>\n",
       "      <td>1.26</td>\n",
       "    </tr>\n",
       "    <tr>\n",
       "      <th>16676509</th>\n",
       "      <td>202008</td>\n",
       "      <td>H85020</td>\n",
       "      <td>Rizatriptan</td>\n",
       "      <td>Rizatriptan 10mg oral lyophilisates sugar free</td>\n",
       "      <td>6.0</td>\n",
       "      <td>1</td>\n",
       "      <td>6.0</td>\n",
       "      <td>26.74</td>\n",
       "      <td>24.87510</td>\n",
       "      <td>N</td>\n",
       "      <td>4.46</td>\n",
       "    </tr>\n",
       "    <tr>\n",
       "      <th>16676510</th>\n",
       "      <td>202008</td>\n",
       "      <td>H85020</td>\n",
       "      <td>Rizatriptan</td>\n",
       "      <td>Rizatriptan 10mg orodispersible tablets sugar ...</td>\n",
       "      <td>9.0</td>\n",
       "      <td>1</td>\n",
       "      <td>9.0</td>\n",
       "      <td>15.60</td>\n",
       "      <td>14.51719</td>\n",
       "      <td>N</td>\n",
       "      <td>1.73</td>\n",
       "    </tr>\n",
       "    <tr>\n",
       "      <th>16676511</th>\n",
       "      <td>202008</td>\n",
       "      <td>H85020</td>\n",
       "      <td>Rizatriptan</td>\n",
       "      <td>Rizatriptan 10mg orodispersible tablets sugar ...</td>\n",
       "      <td>12.0</td>\n",
       "      <td>1</td>\n",
       "      <td>12.0</td>\n",
       "      <td>20.80</td>\n",
       "      <td>19.35212</td>\n",
       "      <td>N</td>\n",
       "      <td>1.73</td>\n",
       "    </tr>\n",
       "  </tbody>\n",
       "</table>\n",
       "<p>16553 rows × 11 columns</p>\n",
       "</div>"
      ],
      "text/plain": [
       "          year_month practice_code         drug  \\\n",
       "1255          202008        L83089  Rizatriptan   \n",
       "1256          202008        L83089  Rizatriptan   \n",
       "1257          202008        L83089  Rizatriptan   \n",
       "1258          202008        L83089  Rizatriptan   \n",
       "1259          202008        L83089  Rizatriptan   \n",
       "...              ...           ...          ...   \n",
       "16676507      202008        H85020  Rizatriptan   \n",
       "16676508      202008        H85020  Rizatriptan   \n",
       "16676509      202008        H85020  Rizatriptan   \n",
       "16676510      202008        H85020  Rizatriptan   \n",
       "16676511      202008        H85020  Rizatriptan   \n",
       "\n",
       "                                                  drug_desc  quantity  items  \\\n",
       "1255                               Rizatriptan 10mg tablets      12.0      1   \n",
       "1256                               Rizatriptan 10mg tablets       6.0      3   \n",
       "1257         Rizatriptan 10mg oral lyophilisates sugar free       6.0      2   \n",
       "1258      Rizatriptan 10mg orodispersible tablets sugar ...       6.0      1   \n",
       "1259      Rizatriptan 10mg orodispersible tablets sugar ...      12.0      1   \n",
       "...                                                     ...       ...    ...   \n",
       "16676507                           Rizatriptan 10mg tablets      12.0      2   \n",
       "16676508                           Rizatriptan 10mg tablets       6.0      1   \n",
       "16676509     Rizatriptan 10mg oral lyophilisates sugar free       6.0      1   \n",
       "16676510  Rizatriptan 10mg orodispersible tablets sugar ...       9.0      1   \n",
       "16676511  Rizatriptan 10mg orodispersible tablets sugar ...      12.0      1   \n",
       "\n",
       "          total_quantity    nic  actual_cost unidentified  normalised_nic  \n",
       "1255                12.0  15.08     14.03370            N            1.26  \n",
       "1256                18.0  22.62     21.06915            N            1.26  \n",
       "1257                12.0  53.48     49.75020            N            4.46  \n",
       "1258                 6.0  10.40      9.68226            N            1.73  \n",
       "1259                12.0  20.80     19.35212            N            1.73  \n",
       "...                  ...    ...          ...          ...             ...  \n",
       "16676507            24.0  30.16     28.06740            N            1.26  \n",
       "16676508             6.0   7.54      7.02305            N            1.26  \n",
       "16676509             6.0  26.74     24.87510            N            4.46  \n",
       "16676510             9.0  15.60     14.51719            N            1.73  \n",
       "16676511            12.0  20.80     19.35212            N            1.73  \n",
       "\n",
       "[16553 rows x 11 columns]"
      ]
     },
     "execution_count": 13,
     "metadata": {},
     "output_type": "execute_result"
    }
   ],
   "source": [
    "triptan_grp.get_group(\"Rizatriptan\")"
   ]
  },
  {
   "cell_type": "markdown",
   "metadata": {},
   "source": [
    "**When triptan drug prescriptions are analysed per drug, variation in the prescription of branded/generic versions can be seen**"
   ]
  },
  {
   "cell_type": "code",
   "execution_count": 14,
   "metadata": {},
   "outputs": [
    {
     "data": {
      "text/plain": [
       "drug                       drug_desc                                                  \n",
       "Almotriptan                Almotriptan 12.5mg tablets                                     0.983583\n",
       "                           Almogran 12.5mg tablets                                        0.016417\n",
       "Eletriptan                 Eletriptan 40mg tablets                                        0.819911\n",
       "                           Eletriptan 20mg tablets                                        0.149888\n",
       "                           Relpax 40mg tablets                                            0.024609\n",
       "                           Relpax 20mg tablets                                            0.005593\n",
       "Frovatriptan               Frovatriptan 2.5mg tablets                                     0.932477\n",
       "                           Migard 2.5mg tablets                                           0.067523\n",
       "Naratriptan hydrochloride  Naratriptan 2.5mg tablets                                      0.937677\n",
       "                           Naramig 2.5mg tablets                                          0.062323\n",
       "Rizatriptan                Rizatriptan 10mg orodispersible tablets sugar free             0.277895\n",
       "                           Rizatriptan 10mg oral lyophilisates sugar free                 0.272217\n",
       "                           Rizatriptan 10mg tablets                                       0.256872\n",
       "                           Maxalt Melt 10mg oral lyophilisates                            0.121972\n",
       "                           Rizatriptan 5mg tablets                                        0.050504\n",
       "                           Maxalt 10mg tablets                                            0.016855\n",
       "                           Maxalt 5mg tablets                                             0.003564\n",
       "                           Rizatriptan 5mg orodispersible tablets sugar free              0.000121\n",
       "Sumatriptan succinate      Sumatriptan 50mg tablets                                       0.452313\n",
       "                           Sumatriptan 100mg tablets                                      0.297789\n",
       "                           Sumatriptan 20mg/0.1ml nasal spray unit dose                   0.068602\n",
       "                           Sumatriptan 10mg/0.1ml nasal spray unit dose                   0.048565\n",
       "                           Sumatriptan 6mg/0.5ml inj pre-filled syringes with device      0.039858\n",
       "                           Sumatriptan 6mg/0.5ml inj pre-filled disposable devices        0.032112\n",
       "                           Sumatriptan 6mg/0.5ml solution for injection syringe refill    0.015779\n",
       "                           Imigran 50mg tablets                                           0.015635\n",
       "                           Imigran 100mg tablets                                          0.010896\n",
       "                           Imigran Subject 6mg/0.5ml inj pfs with dev                     0.005075\n",
       "                           Imigran 20mg nasal spray                                       0.004474\n",
       "                           Imigran Subject 6mg/0.5ml inj syringe refill pack              0.003151\n",
       "                           Imigran 10mg nasal spray                                       0.002261\n",
       "                           Imigran Radis 50mg tablets                                     0.002021\n",
       "                           Imigran Radis 100mg tablets                                    0.001443\n",
       "                           Migraitan 50mg tablets                                         0.000024\n",
       "Zolmitriptan               Zolmitriptan 2.5mg tablets                                     0.440261\n",
       "                           Zolmitriptan 2.5mg orodispersible tablets sugar free           0.213836\n",
       "                           Zolmitriptan 5mg/0.1ml nasal spray unit dose                   0.165168\n",
       "                           Zolmitriptan 5mg orodispersible tablets sugar free             0.102113\n",
       "                           Zolmitriptan 5mg tablets                                       0.025683\n",
       "                           Zomig 2.5mg tablets                                            0.016803\n",
       "                           Zomig 5mg/0.1ml nasal spray 0.1ml unit dose                    0.015455\n",
       "                           Zomig Rapimelt 2.5mg orodispersible tablets                    0.013431\n",
       "                           Zomig Rapimelt 5mg orodispersible tablets                      0.007250\n",
       "Name: drug_desc, dtype: float64"
      ]
     },
     "execution_count": 14,
     "metadata": {},
     "output_type": "execute_result"
    }
   ],
   "source": [
    "triptan_grp['drug_desc'].value_counts(normalize=True)"
   ]
  },
  {
   "cell_type": "markdown",
   "metadata": {},
   "source": [
    "## Rizatriptan"
   ]
  },
  {
   "cell_type": "code",
   "execution_count": 15,
   "metadata": {},
   "outputs": [],
   "source": [
    "rizatriptan_df = df[df[\"drug_desc\"].str.contains(\"Rizatriptan\")]"
   ]
  },
  {
   "cell_type": "code",
   "execution_count": 16,
   "metadata": {},
   "outputs": [
    {
     "data": {
      "text/html": [
       "<div>\n",
       "<style scoped>\n",
       "    .dataframe tbody tr th:only-of-type {\n",
       "        vertical-align: middle;\n",
       "    }\n",
       "\n",
       "    .dataframe tbody tr th {\n",
       "        vertical-align: top;\n",
       "    }\n",
       "\n",
       "    .dataframe thead th {\n",
       "        text-align: right;\n",
       "    }\n",
       "</style>\n",
       "<table border=\"1\" class=\"dataframe\">\n",
       "  <thead>\n",
       "    <tr style=\"text-align: right;\">\n",
       "      <th></th>\n",
       "      <th>year_month</th>\n",
       "      <th>practice_code</th>\n",
       "      <th>drug</th>\n",
       "      <th>drug_desc</th>\n",
       "      <th>quantity</th>\n",
       "      <th>items</th>\n",
       "      <th>total_quantity</th>\n",
       "      <th>nic</th>\n",
       "      <th>actual_cost</th>\n",
       "      <th>unidentified</th>\n",
       "      <th>normalised_nic</th>\n",
       "    </tr>\n",
       "  </thead>\n",
       "  <tbody>\n",
       "    <tr>\n",
       "      <th>1255</th>\n",
       "      <td>202008</td>\n",
       "      <td>L83089</td>\n",
       "      <td>Rizatriptan</td>\n",
       "      <td>Rizatriptan 10mg tablets</td>\n",
       "      <td>12.0</td>\n",
       "      <td>1</td>\n",
       "      <td>12.0</td>\n",
       "      <td>15.08</td>\n",
       "      <td>14.03370</td>\n",
       "      <td>N</td>\n",
       "      <td>1.26</td>\n",
       "    </tr>\n",
       "    <tr>\n",
       "      <th>1256</th>\n",
       "      <td>202008</td>\n",
       "      <td>L83089</td>\n",
       "      <td>Rizatriptan</td>\n",
       "      <td>Rizatriptan 10mg tablets</td>\n",
       "      <td>6.0</td>\n",
       "      <td>3</td>\n",
       "      <td>18.0</td>\n",
       "      <td>22.62</td>\n",
       "      <td>21.06915</td>\n",
       "      <td>N</td>\n",
       "      <td>1.26</td>\n",
       "    </tr>\n",
       "    <tr>\n",
       "      <th>7735</th>\n",
       "      <td>202008</td>\n",
       "      <td>L83043</td>\n",
       "      <td>Rizatriptan</td>\n",
       "      <td>Rizatriptan 10mg tablets</td>\n",
       "      <td>9.0</td>\n",
       "      <td>1</td>\n",
       "      <td>9.0</td>\n",
       "      <td>11.31</td>\n",
       "      <td>10.52837</td>\n",
       "      <td>N</td>\n",
       "      <td>1.26</td>\n",
       "    </tr>\n",
       "    <tr>\n",
       "      <th>9253</th>\n",
       "      <td>202008</td>\n",
       "      <td>K84013</td>\n",
       "      <td>Rizatriptan</td>\n",
       "      <td>Rizatriptan 10mg tablets</td>\n",
       "      <td>6.0</td>\n",
       "      <td>1</td>\n",
       "      <td>6.0</td>\n",
       "      <td>7.54</td>\n",
       "      <td>7.02305</td>\n",
       "      <td>N</td>\n",
       "      <td>1.26</td>\n",
       "    </tr>\n",
       "    <tr>\n",
       "      <th>12545</th>\n",
       "      <td>202008</td>\n",
       "      <td>L83147</td>\n",
       "      <td>Rizatriptan</td>\n",
       "      <td>Rizatriptan 10mg tablets</td>\n",
       "      <td>12.0</td>\n",
       "      <td>3</td>\n",
       "      <td>36.0</td>\n",
       "      <td>45.24</td>\n",
       "      <td>42.10110</td>\n",
       "      <td>N</td>\n",
       "      <td>1.26</td>\n",
       "    </tr>\n",
       "    <tr>\n",
       "      <th>...</th>\n",
       "      <td>...</td>\n",
       "      <td>...</td>\n",
       "      <td>...</td>\n",
       "      <td>...</td>\n",
       "      <td>...</td>\n",
       "      <td>...</td>\n",
       "      <td>...</td>\n",
       "      <td>...</td>\n",
       "      <td>...</td>\n",
       "      <td>...</td>\n",
       "      <td>...</td>\n",
       "    </tr>\n",
       "    <tr>\n",
       "      <th>16675322</th>\n",
       "      <td>202008</td>\n",
       "      <td>L83004</td>\n",
       "      <td>Rizatriptan</td>\n",
       "      <td>Rizatriptan 10mg tablets</td>\n",
       "      <td>12.0</td>\n",
       "      <td>3</td>\n",
       "      <td>36.0</td>\n",
       "      <td>45.24</td>\n",
       "      <td>42.10110</td>\n",
       "      <td>N</td>\n",
       "      <td>1.26</td>\n",
       "    </tr>\n",
       "    <tr>\n",
       "      <th>16675323</th>\n",
       "      <td>202008</td>\n",
       "      <td>L83004</td>\n",
       "      <td>Rizatriptan</td>\n",
       "      <td>Rizatriptan 10mg tablets</td>\n",
       "      <td>16.0</td>\n",
       "      <td>1</td>\n",
       "      <td>16.0</td>\n",
       "      <td>20.11</td>\n",
       "      <td>18.81057</td>\n",
       "      <td>N</td>\n",
       "      <td>1.26</td>\n",
       "    </tr>\n",
       "    <tr>\n",
       "      <th>16675324</th>\n",
       "      <td>202008</td>\n",
       "      <td>L83004</td>\n",
       "      <td>Rizatriptan</td>\n",
       "      <td>Rizatriptan 10mg tablets</td>\n",
       "      <td>6.0</td>\n",
       "      <td>2</td>\n",
       "      <td>12.0</td>\n",
       "      <td>15.08</td>\n",
       "      <td>14.04610</td>\n",
       "      <td>N</td>\n",
       "      <td>1.26</td>\n",
       "    </tr>\n",
       "    <tr>\n",
       "      <th>16676507</th>\n",
       "      <td>202008</td>\n",
       "      <td>H85020</td>\n",
       "      <td>Rizatriptan</td>\n",
       "      <td>Rizatriptan 10mg tablets</td>\n",
       "      <td>12.0</td>\n",
       "      <td>2</td>\n",
       "      <td>24.0</td>\n",
       "      <td>30.16</td>\n",
       "      <td>28.06740</td>\n",
       "      <td>N</td>\n",
       "      <td>1.26</td>\n",
       "    </tr>\n",
       "    <tr>\n",
       "      <th>16676508</th>\n",
       "      <td>202008</td>\n",
       "      <td>H85020</td>\n",
       "      <td>Rizatriptan</td>\n",
       "      <td>Rizatriptan 10mg tablets</td>\n",
       "      <td>6.0</td>\n",
       "      <td>1</td>\n",
       "      <td>6.0</td>\n",
       "      <td>7.54</td>\n",
       "      <td>7.02305</td>\n",
       "      <td>N</td>\n",
       "      <td>1.26</td>\n",
       "    </tr>\n",
       "  </tbody>\n",
       "</table>\n",
       "<p>4252 rows × 11 columns</p>\n",
       "</div>"
      ],
      "text/plain": [
       "          year_month practice_code         drug                 drug_desc  \\\n",
       "1255          202008        L83089  Rizatriptan  Rizatriptan 10mg tablets   \n",
       "1256          202008        L83089  Rizatriptan  Rizatriptan 10mg tablets   \n",
       "7735          202008        L83043  Rizatriptan  Rizatriptan 10mg tablets   \n",
       "9253          202008        K84013  Rizatriptan  Rizatriptan 10mg tablets   \n",
       "12545         202008        L83147  Rizatriptan  Rizatriptan 10mg tablets   \n",
       "...              ...           ...          ...                       ...   \n",
       "16675322      202008        L83004  Rizatriptan  Rizatriptan 10mg tablets   \n",
       "16675323      202008        L83004  Rizatriptan  Rizatriptan 10mg tablets   \n",
       "16675324      202008        L83004  Rizatriptan  Rizatriptan 10mg tablets   \n",
       "16676507      202008        H85020  Rizatriptan  Rizatriptan 10mg tablets   \n",
       "16676508      202008        H85020  Rizatriptan  Rizatriptan 10mg tablets   \n",
       "\n",
       "          quantity  items  total_quantity    nic  actual_cost unidentified  \\\n",
       "1255          12.0      1            12.0  15.08     14.03370            N   \n",
       "1256           6.0      3            18.0  22.62     21.06915            N   \n",
       "7735           9.0      1             9.0  11.31     10.52837            N   \n",
       "9253           6.0      1             6.0   7.54      7.02305            N   \n",
       "12545         12.0      3            36.0  45.24     42.10110            N   \n",
       "...            ...    ...             ...    ...          ...          ...   \n",
       "16675322      12.0      3            36.0  45.24     42.10110            N   \n",
       "16675323      16.0      1            16.0  20.11     18.81057            N   \n",
       "16675324       6.0      2            12.0  15.08     14.04610            N   \n",
       "16676507      12.0      2            24.0  30.16     28.06740            N   \n",
       "16676508       6.0      1             6.0   7.54      7.02305            N   \n",
       "\n",
       "          normalised_nic  \n",
       "1255                1.26  \n",
       "1256                1.26  \n",
       "7735                1.26  \n",
       "9253                1.26  \n",
       "12545               1.26  \n",
       "...                  ...  \n",
       "16675322            1.26  \n",
       "16675323            1.26  \n",
       "16675324            1.26  \n",
       "16676507            1.26  \n",
       "16676508            1.26  \n",
       "\n",
       "[4252 rows x 11 columns]"
      ]
     },
     "execution_count": 16,
     "metadata": {},
     "output_type": "execute_result"
    }
   ],
   "source": [
    "rizatriptan_df[rizatriptan_df['drug_desc'].str.contains(\"10mg tablets\")]"
   ]
  },
  {
   "cell_type": "code",
   "execution_count": 17,
   "metadata": {},
   "outputs": [
    {
     "data": {
      "text/plain": [
       "Rizatriptan 10mg orodispersible tablets sugar free    0.324035\n",
       "Rizatriptan 10mg oral lyophilisates sugar free        0.317413\n",
       "Rizatriptan 10mg tablets                              0.299521\n",
       "Rizatriptan 5mg tablets                               0.058890\n",
       "Rizatriptan 5mg orodispersible tablets sugar free     0.000141\n",
       "Name: drug_desc, dtype: float64"
      ]
     },
     "execution_count": 17,
     "metadata": {},
     "output_type": "execute_result"
    }
   ],
   "source": [
    "rizatriptan_df[\"drug_desc\"].value_counts(normalize=True)"
   ]
  },
  {
   "cell_type": "code",
   "execution_count": 18,
   "metadata": {},
   "outputs": [
    {
     "data": {
      "text/plain": [
       "4.46    0.377360\n",
       "1.73    0.321851\n",
       "1.26    0.298535\n",
       "3.09    0.000352\n",
       "4.45    0.000352\n",
       "1.25    0.000352\n",
       "2.64    0.000282\n",
       "1.74    0.000282\n",
       "2.86    0.000141\n",
       "2.07    0.000070\n",
       "2.28    0.000070\n",
       "2.34    0.000070\n",
       "1.40    0.000070\n",
       "1.93    0.000070\n",
       "1.55    0.000070\n",
       "0.96    0.000070\n",
       "Name: normalised_nic, dtype: float64"
      ]
     },
     "execution_count": 18,
     "metadata": {},
     "output_type": "execute_result"
    }
   ],
   "source": [
    "rizatriptan_df[\"normalised_nic\"].value_counts(normalize=True)"
   ]
  },
  {
   "cell_type": "markdown",
   "metadata": {},
   "source": [
    "### Rizatriptan formulation - normalised_nic\n",
    "- **10mg tablets** - **1.26**\n",
    "- **10mg oral lyophilisates** - **4.46** \n",
    "- **10mg orodispersible tablets** - **1.73**. Small number have other normalised NIC (3.09, 4.45)\n",
    "- The above 3 formulations make up >93% of generic rizatriptan precriptions\n",
    "- (5mg tablets - 4.46)"
   ]
  },
  {
   "cell_type": "code",
   "execution_count": 19,
   "metadata": {},
   "outputs": [],
   "source": [
    "maxalt_df = df[df[\"drug_desc\"].str.contains(\"Maxalt\")]"
   ]
  },
  {
   "cell_type": "code",
   "execution_count": 20,
   "metadata": {},
   "outputs": [
    {
     "data": {
      "text/plain": [
       "array([4.46])"
      ]
     },
     "execution_count": 20,
     "metadata": {},
     "output_type": "execute_result"
    }
   ],
   "source": [
    "maxalt_df['normalised_nic'].unique()"
   ]
  },
  {
   "cell_type": "code",
   "execution_count": 21,
   "metadata": {},
   "outputs": [
    {
     "data": {
      "text/plain": [
       "array(['Maxalt 10mg tablets', 'Maxalt Melt 10mg oral lyophilisates',\n",
       "       'Maxalt 5mg tablets'], dtype=object)"
      ]
     },
     "execution_count": 21,
     "metadata": {},
     "output_type": "execute_result"
    }
   ],
   "source": [
    "maxalt_df['drug_desc'].unique()"
   ]
  },
  {
   "cell_type": "code",
   "execution_count": 22,
   "metadata": {},
   "outputs": [],
   "source": [
    "maxalt_df_tablet = maxalt_df[~maxalt_df[\"drug_desc\"].str.contains(\"lyophilisates\")]"
   ]
  },
  {
   "cell_type": "code",
   "execution_count": 23,
   "metadata": {},
   "outputs": [
    {
     "data": {
      "text/plain": [
       "array([4.46])"
      ]
     },
     "execution_count": 23,
     "metadata": {},
     "output_type": "execute_result"
    }
   ],
   "source": [
    "maxalt_df_tablet[\"normalised_nic\"].unique()"
   ]
  },
  {
   "cell_type": "code",
   "execution_count": 24,
   "metadata": {},
   "outputs": [
    {
     "data": {
      "text/plain": [
       "Maxalt 10mg tablets    279\n",
       "Maxalt 5mg tablets      59\n",
       "Name: drug_desc, dtype: int64"
      ]
     },
     "execution_count": 24,
     "metadata": {},
     "output_type": "execute_result"
    }
   ],
   "source": [
    "maxalt_df_tablet[\"drug_desc\"].value_counts()"
   ]
  },
  {
   "cell_type": "markdown",
   "metadata": {},
   "source": [
    "**The 279 prescriptions for Maxalt 10mg are at over 3.5 times the price of the equivalent generic** (which was prescribed 4252 times this month)\n"
   ]
  },
  {
   "cell_type": "code",
   "execution_count": 25,
   "metadata": {},
   "outputs": [
    {
     "data": {
      "text/html": [
       "<div>\n",
       "<style scoped>\n",
       "    .dataframe tbody tr th:only-of-type {\n",
       "        vertical-align: middle;\n",
       "    }\n",
       "\n",
       "    .dataframe tbody tr th {\n",
       "        vertical-align: top;\n",
       "    }\n",
       "\n",
       "    .dataframe thead th {\n",
       "        text-align: right;\n",
       "    }\n",
       "</style>\n",
       "<table border=\"1\" class=\"dataframe\">\n",
       "  <thead>\n",
       "    <tr style=\"text-align: right;\">\n",
       "      <th></th>\n",
       "      <th>year_month</th>\n",
       "      <th>practice_code</th>\n",
       "      <th>drug</th>\n",
       "      <th>drug_desc</th>\n",
       "      <th>quantity</th>\n",
       "      <th>items</th>\n",
       "      <th>total_quantity</th>\n",
       "      <th>nic</th>\n",
       "      <th>actual_cost</th>\n",
       "      <th>unidentified</th>\n",
       "      <th>normalised_nic</th>\n",
       "    </tr>\n",
       "  </thead>\n",
       "  <tbody>\n",
       "    <tr>\n",
       "      <th>5423</th>\n",
       "      <td>202008</td>\n",
       "      <td>L83043</td>\n",
       "      <td>Rizatriptan</td>\n",
       "      <td>Maxalt 10mg tablets</td>\n",
       "      <td>12.0</td>\n",
       "      <td>1</td>\n",
       "      <td>12.0</td>\n",
       "      <td>53.48</td>\n",
       "      <td>49.73780</td>\n",
       "      <td>N</td>\n",
       "      <td>4.46</td>\n",
       "    </tr>\n",
       "    <tr>\n",
       "      <th>77146</th>\n",
       "      <td>202008</td>\n",
       "      <td>Y04662</td>\n",
       "      <td>Rizatriptan</td>\n",
       "      <td>Maxalt 10mg tablets</td>\n",
       "      <td>12.0</td>\n",
       "      <td>1</td>\n",
       "      <td>12.0</td>\n",
       "      <td>53.48</td>\n",
       "      <td>49.73780</td>\n",
       "      <td>N</td>\n",
       "      <td>4.46</td>\n",
       "    </tr>\n",
       "    <tr>\n",
       "      <th>133756</th>\n",
       "      <td>202008</td>\n",
       "      <td>M85128</td>\n",
       "      <td>Rizatriptan</td>\n",
       "      <td>Maxalt 10mg tablets</td>\n",
       "      <td>12.0</td>\n",
       "      <td>1</td>\n",
       "      <td>12.0</td>\n",
       "      <td>53.48</td>\n",
       "      <td>49.73780</td>\n",
       "      <td>N</td>\n",
       "      <td>4.46</td>\n",
       "    </tr>\n",
       "    <tr>\n",
       "      <th>189951</th>\n",
       "      <td>202008</td>\n",
       "      <td>C82100</td>\n",
       "      <td>Rizatriptan</td>\n",
       "      <td>Maxalt 10mg tablets</td>\n",
       "      <td>12.0</td>\n",
       "      <td>1</td>\n",
       "      <td>12.0</td>\n",
       "      <td>53.48</td>\n",
       "      <td>49.73780</td>\n",
       "      <td>N</td>\n",
       "      <td>4.46</td>\n",
       "    </tr>\n",
       "    <tr>\n",
       "      <th>258999</th>\n",
       "      <td>202008</td>\n",
       "      <td>M85066</td>\n",
       "      <td>Rizatriptan</td>\n",
       "      <td>Maxalt 10mg tablets</td>\n",
       "      <td>12.0</td>\n",
       "      <td>2</td>\n",
       "      <td>24.0</td>\n",
       "      <td>106.96</td>\n",
       "      <td>99.47561</td>\n",
       "      <td>N</td>\n",
       "      <td>4.46</td>\n",
       "    </tr>\n",
       "    <tr>\n",
       "      <th>...</th>\n",
       "      <td>...</td>\n",
       "      <td>...</td>\n",
       "      <td>...</td>\n",
       "      <td>...</td>\n",
       "      <td>...</td>\n",
       "      <td>...</td>\n",
       "      <td>...</td>\n",
       "      <td>...</td>\n",
       "      <td>...</td>\n",
       "      <td>...</td>\n",
       "      <td>...</td>\n",
       "    </tr>\n",
       "    <tr>\n",
       "      <th>16521585</th>\n",
       "      <td>202008</td>\n",
       "      <td>M83682</td>\n",
       "      <td>Rizatriptan</td>\n",
       "      <td>Maxalt 10mg tablets</td>\n",
       "      <td>6.0</td>\n",
       "      <td>1</td>\n",
       "      <td>6.0</td>\n",
       "      <td>26.74</td>\n",
       "      <td>24.87510</td>\n",
       "      <td>N</td>\n",
       "      <td>4.46</td>\n",
       "    </tr>\n",
       "    <tr>\n",
       "      <th>16599078</th>\n",
       "      <td>202008</td>\n",
       "      <td>K81651</td>\n",
       "      <td>Rizatriptan</td>\n",
       "      <td>Maxalt 10mg tablets</td>\n",
       "      <td>6.0</td>\n",
       "      <td>1</td>\n",
       "      <td>6.0</td>\n",
       "      <td>26.74</td>\n",
       "      <td>24.87510</td>\n",
       "      <td>N</td>\n",
       "      <td>4.46</td>\n",
       "    </tr>\n",
       "    <tr>\n",
       "      <th>16610234</th>\n",
       "      <td>202008</td>\n",
       "      <td>K81027</td>\n",
       "      <td>Rizatriptan</td>\n",
       "      <td>Maxalt 10mg tablets</td>\n",
       "      <td>12.0</td>\n",
       "      <td>2</td>\n",
       "      <td>24.0</td>\n",
       "      <td>106.96</td>\n",
       "      <td>99.47561</td>\n",
       "      <td>N</td>\n",
       "      <td>4.46</td>\n",
       "    </tr>\n",
       "    <tr>\n",
       "      <th>16630250</th>\n",
       "      <td>202008</td>\n",
       "      <td>K82079</td>\n",
       "      <td>Rizatriptan</td>\n",
       "      <td>Maxalt 10mg tablets</td>\n",
       "      <td>12.0</td>\n",
       "      <td>3</td>\n",
       "      <td>36.0</td>\n",
       "      <td>160.44</td>\n",
       "      <td>149.20101</td>\n",
       "      <td>N</td>\n",
       "      <td>4.46</td>\n",
       "    </tr>\n",
       "    <tr>\n",
       "      <th>16672328</th>\n",
       "      <td>202008</td>\n",
       "      <td>H85020</td>\n",
       "      <td>Rizatriptan</td>\n",
       "      <td>Maxalt 10mg tablets</td>\n",
       "      <td>6.0</td>\n",
       "      <td>1</td>\n",
       "      <td>6.0</td>\n",
       "      <td>26.74</td>\n",
       "      <td>24.87510</td>\n",
       "      <td>N</td>\n",
       "      <td>4.46</td>\n",
       "    </tr>\n",
       "  </tbody>\n",
       "</table>\n",
       "<p>279 rows × 11 columns</p>\n",
       "</div>"
      ],
      "text/plain": [
       "          year_month practice_code         drug            drug_desc  \\\n",
       "5423          202008        L83043  Rizatriptan  Maxalt 10mg tablets   \n",
       "77146         202008        Y04662  Rizatriptan  Maxalt 10mg tablets   \n",
       "133756        202008        M85128  Rizatriptan  Maxalt 10mg tablets   \n",
       "189951        202008        C82100  Rizatriptan  Maxalt 10mg tablets   \n",
       "258999        202008        M85066  Rizatriptan  Maxalt 10mg tablets   \n",
       "...              ...           ...          ...                  ...   \n",
       "16521585      202008        M83682  Rizatriptan  Maxalt 10mg tablets   \n",
       "16599078      202008        K81651  Rizatriptan  Maxalt 10mg tablets   \n",
       "16610234      202008        K81027  Rizatriptan  Maxalt 10mg tablets   \n",
       "16630250      202008        K82079  Rizatriptan  Maxalt 10mg tablets   \n",
       "16672328      202008        H85020  Rizatriptan  Maxalt 10mg tablets   \n",
       "\n",
       "          quantity  items  total_quantity     nic  actual_cost unidentified  \\\n",
       "5423          12.0      1            12.0   53.48     49.73780            N   \n",
       "77146         12.0      1            12.0   53.48     49.73780            N   \n",
       "133756        12.0      1            12.0   53.48     49.73780            N   \n",
       "189951        12.0      1            12.0   53.48     49.73780            N   \n",
       "258999        12.0      2            24.0  106.96     99.47561            N   \n",
       "...            ...    ...             ...     ...          ...          ...   \n",
       "16521585       6.0      1             6.0   26.74     24.87510            N   \n",
       "16599078       6.0      1             6.0   26.74     24.87510            N   \n",
       "16610234      12.0      2            24.0  106.96     99.47561            N   \n",
       "16630250      12.0      3            36.0  160.44    149.20101            N   \n",
       "16672328       6.0      1             6.0   26.74     24.87510            N   \n",
       "\n",
       "          normalised_nic  \n",
       "5423                4.46  \n",
       "77146               4.46  \n",
       "133756              4.46  \n",
       "189951              4.46  \n",
       "258999              4.46  \n",
       "...                  ...  \n",
       "16521585            4.46  \n",
       "16599078            4.46  \n",
       "16610234            4.46  \n",
       "16630250            4.46  \n",
       "16672328            4.46  \n",
       "\n",
       "[279 rows x 11 columns]"
      ]
     },
     "execution_count": 25,
     "metadata": {},
     "output_type": "execute_result"
    }
   ],
   "source": [
    "maxalt_10_tab_df = maxalt_df_tablet[maxalt_df_tablet[\"drug_desc\"] == \"Maxalt 10mg tablets\"]\n",
    "maxalt_10_tab_df"
   ]
  },
  {
   "cell_type": "code",
   "execution_count": 26,
   "metadata": {},
   "outputs": [
    {
     "data": {
      "text/plain": [
       "14818.873319999999"
      ]
     },
     "execution_count": 26,
     "metadata": {},
     "output_type": "execute_result"
    }
   ],
   "source": [
    "maxalt_10_tab_df[\"actual_cost\"].sum()"
   ]
  },
  {
   "cell_type": "code",
   "execution_count": 27,
   "metadata": {},
   "outputs": [
    {
     "data": {
      "text/plain": [
       "3575.0"
      ]
     },
     "execution_count": 27,
     "metadata": {},
     "output_type": "execute_result"
    }
   ],
   "source": [
    "maxalt_10_tab_df[\"total_quantity\"].sum()"
   ]
  },
  {
   "cell_type": "code",
   "execution_count": 28,
   "metadata": {},
   "outputs": [
    {
     "data": {
      "text/plain": [
       "15944.5"
      ]
     },
     "execution_count": 28,
     "metadata": {},
     "output_type": "execute_result"
    }
   ],
   "source": [
    "4.46*(maxalt_10_tab_df[\"total_quantity\"].sum())"
   ]
  },
  {
   "cell_type": "code",
   "execution_count": 29,
   "metadata": {},
   "outputs": [
    {
     "data": {
      "text/plain": [
       "4504.5"
      ]
     },
     "execution_count": 29,
     "metadata": {},
     "output_type": "execute_result"
    }
   ],
   "source": [
    "3575*1.26"
   ]
  },
  {
   "cell_type": "markdown",
   "metadata": {},
   "source": [
    "**Between ~£15,000 - 16,000 was spent on Maxalt 10mg tablets** (the error margin is due to the difference between the NIC and actual cost)\n",
    "\n",
    "**This quantity of tablets (3575 x 10mg rizatriptan) would have cost ~£4,500 had the generic version been prescribed/dispensed. That's > £10,000 saving from 279 prescriptions of this uncommon drug in one month.**\n",
    "\n",
    "The practice codes are below. Repeating monthly over a year or more might highlight some patterns in the practices unnecessarily prescribing branded versions of certain drugs, allowing targeted feedback. \n",
    "\n",
    "Even better would be a system which flags unnecssary branded prescriptions. This would ideally be at the time of prescription, which given many/most/basically all(?) prescriptions are electronic these days, I'm not sure why this isn't happening. When the GP makes the prescription, a quick box saying \"there is a equivalent generic version, do you agree to this switch?\" seems logical."
   ]
  },
  {
   "cell_type": "code",
   "execution_count": 30,
   "metadata": {},
   "outputs": [
    {
     "data": {
      "text/plain": [
       "P91012    3\n",
       "Y00351    2\n",
       "F81212    2\n",
       "P81017    2\n",
       "N82062    2\n",
       "         ..\n",
       "P84030    1\n",
       "E85130    1\n",
       "C82100    1\n",
       "M85028    1\n",
       "C87012    1\n",
       "Name: practice_code, Length: 268, dtype: int64"
      ]
     },
     "execution_count": 30,
     "metadata": {},
     "output_type": "execute_result"
    }
   ],
   "source": [
    "maxalt_10_tab_df[\"practice_code\"].value_counts()"
   ]
  },
  {
   "cell_type": "markdown",
   "metadata": {},
   "source": [
    "## Frovatriptan"
   ]
  },
  {
   "cell_type": "code",
   "execution_count": 31,
   "metadata": {},
   "outputs": [
    {
     "data": {
      "text/html": [
       "<div>\n",
       "<style scoped>\n",
       "    .dataframe tbody tr th:only-of-type {\n",
       "        vertical-align: middle;\n",
       "    }\n",
       "\n",
       "    .dataframe tbody tr th {\n",
       "        vertical-align: top;\n",
       "    }\n",
       "\n",
       "    .dataframe thead th {\n",
       "        text-align: right;\n",
       "    }\n",
       "</style>\n",
       "<table border=\"1\" class=\"dataframe\">\n",
       "  <thead>\n",
       "    <tr style=\"text-align: right;\">\n",
       "      <th></th>\n",
       "      <th>year_month</th>\n",
       "      <th>practice_code</th>\n",
       "      <th>drug</th>\n",
       "      <th>drug_desc</th>\n",
       "      <th>quantity</th>\n",
       "      <th>items</th>\n",
       "      <th>total_quantity</th>\n",
       "      <th>nic</th>\n",
       "      <th>actual_cost</th>\n",
       "      <th>unidentified</th>\n",
       "      <th>normalised_nic</th>\n",
       "    </tr>\n",
       "  </thead>\n",
       "  <tbody>\n",
       "    <tr>\n",
       "      <th>21969</th>\n",
       "      <td>202008</td>\n",
       "      <td>N84034</td>\n",
       "      <td>Frovatriptan</td>\n",
       "      <td>Frovatriptan 2.5mg tablets</td>\n",
       "      <td>6.0</td>\n",
       "      <td>1</td>\n",
       "      <td>6.0</td>\n",
       "      <td>6.11</td>\n",
       "      <td>5.69344</td>\n",
       "      <td>N</td>\n",
       "      <td>1.02</td>\n",
       "    </tr>\n",
       "    <tr>\n",
       "      <th>28165</th>\n",
       "      <td>202008</td>\n",
       "      <td>K84054</td>\n",
       "      <td>Frovatriptan</td>\n",
       "      <td>Frovatriptan 2.5mg tablets</td>\n",
       "      <td>12.0</td>\n",
       "      <td>5</td>\n",
       "      <td>60.0</td>\n",
       "      <td>61.10</td>\n",
       "      <td>56.87244</td>\n",
       "      <td>N</td>\n",
       "      <td>1.02</td>\n",
       "    </tr>\n",
       "    <tr>\n",
       "      <th>32707</th>\n",
       "      <td>202008</td>\n",
       "      <td>N84028</td>\n",
       "      <td>Frovatriptan</td>\n",
       "      <td>Frovatriptan 2.5mg tablets</td>\n",
       "      <td>6.0</td>\n",
       "      <td>1</td>\n",
       "      <td>6.0</td>\n",
       "      <td>6.11</td>\n",
       "      <td>5.69344</td>\n",
       "      <td>N</td>\n",
       "      <td>1.02</td>\n",
       "    </tr>\n",
       "    <tr>\n",
       "      <th>42488</th>\n",
       "      <td>202008</td>\n",
       "      <td>J83037</td>\n",
       "      <td>Frovatriptan</td>\n",
       "      <td>Frovatriptan 2.5mg tablets</td>\n",
       "      <td>12.0</td>\n",
       "      <td>1</td>\n",
       "      <td>12.0</td>\n",
       "      <td>12.22</td>\n",
       "      <td>11.37449</td>\n",
       "      <td>N</td>\n",
       "      <td>1.02</td>\n",
       "    </tr>\n",
       "    <tr>\n",
       "      <th>47381</th>\n",
       "      <td>202008</td>\n",
       "      <td>J83008</td>\n",
       "      <td>Frovatriptan</td>\n",
       "      <td>Frovatriptan 2.5mg tablets</td>\n",
       "      <td>12.0</td>\n",
       "      <td>2</td>\n",
       "      <td>24.0</td>\n",
       "      <td>24.44</td>\n",
       "      <td>22.74898</td>\n",
       "      <td>N</td>\n",
       "      <td>1.02</td>\n",
       "    </tr>\n",
       "    <tr>\n",
       "      <th>...</th>\n",
       "      <td>...</td>\n",
       "      <td>...</td>\n",
       "      <td>...</td>\n",
       "      <td>...</td>\n",
       "      <td>...</td>\n",
       "      <td>...</td>\n",
       "      <td>...</td>\n",
       "      <td>...</td>\n",
       "      <td>...</td>\n",
       "      <td>...</td>\n",
       "      <td>...</td>\n",
       "    </tr>\n",
       "    <tr>\n",
       "      <th>16672324</th>\n",
       "      <td>202008</td>\n",
       "      <td>H85020</td>\n",
       "      <td>Frovatriptan</td>\n",
       "      <td>Frovatriptan 2.5mg tablets</td>\n",
       "      <td>6.0</td>\n",
       "      <td>1</td>\n",
       "      <td>6.0</td>\n",
       "      <td>6.11</td>\n",
       "      <td>5.69344</td>\n",
       "      <td>N</td>\n",
       "      <td>1.02</td>\n",
       "    </tr>\n",
       "    <tr>\n",
       "      <th>16672325</th>\n",
       "      <td>202008</td>\n",
       "      <td>H85020</td>\n",
       "      <td>Frovatriptan</td>\n",
       "      <td>Frovatriptan 2.5mg tablets</td>\n",
       "      <td>12.0</td>\n",
       "      <td>2</td>\n",
       "      <td>24.0</td>\n",
       "      <td>24.44</td>\n",
       "      <td>22.74898</td>\n",
       "      <td>N</td>\n",
       "      <td>1.02</td>\n",
       "    </tr>\n",
       "    <tr>\n",
       "      <th>16672326</th>\n",
       "      <td>202008</td>\n",
       "      <td>H85020</td>\n",
       "      <td>Frovatriptan</td>\n",
       "      <td>Frovatriptan 2.5mg tablets</td>\n",
       "      <td>24.0</td>\n",
       "      <td>1</td>\n",
       "      <td>24.0</td>\n",
       "      <td>24.44</td>\n",
       "      <td>22.73658</td>\n",
       "      <td>N</td>\n",
       "      <td>1.02</td>\n",
       "    </tr>\n",
       "    <tr>\n",
       "      <th>16672787</th>\n",
       "      <td>202008</td>\n",
       "      <td>L83004</td>\n",
       "      <td>Frovatriptan</td>\n",
       "      <td>Frovatriptan 2.5mg tablets</td>\n",
       "      <td>6.0</td>\n",
       "      <td>2</td>\n",
       "      <td>12.0</td>\n",
       "      <td>12.22</td>\n",
       "      <td>11.38689</td>\n",
       "      <td>N</td>\n",
       "      <td>1.02</td>\n",
       "    </tr>\n",
       "    <tr>\n",
       "      <th>16672788</th>\n",
       "      <td>202008</td>\n",
       "      <td>L83004</td>\n",
       "      <td>Frovatriptan</td>\n",
       "      <td>Frovatriptan 2.5mg tablets</td>\n",
       "      <td>12.0</td>\n",
       "      <td>1</td>\n",
       "      <td>12.0</td>\n",
       "      <td>12.22</td>\n",
       "      <td>11.37449</td>\n",
       "      <td>N</td>\n",
       "      <td>1.02</td>\n",
       "    </tr>\n",
       "  </tbody>\n",
       "</table>\n",
       "<p>2831 rows × 11 columns</p>\n",
       "</div>"
      ],
      "text/plain": [
       "          year_month practice_code          drug                   drug_desc  \\\n",
       "21969         202008        N84034  Frovatriptan  Frovatriptan 2.5mg tablets   \n",
       "28165         202008        K84054  Frovatriptan  Frovatriptan 2.5mg tablets   \n",
       "32707         202008        N84028  Frovatriptan  Frovatriptan 2.5mg tablets   \n",
       "42488         202008        J83037  Frovatriptan  Frovatriptan 2.5mg tablets   \n",
       "47381         202008        J83008  Frovatriptan  Frovatriptan 2.5mg tablets   \n",
       "...              ...           ...           ...                         ...   \n",
       "16672324      202008        H85020  Frovatriptan  Frovatriptan 2.5mg tablets   \n",
       "16672325      202008        H85020  Frovatriptan  Frovatriptan 2.5mg tablets   \n",
       "16672326      202008        H85020  Frovatriptan  Frovatriptan 2.5mg tablets   \n",
       "16672787      202008        L83004  Frovatriptan  Frovatriptan 2.5mg tablets   \n",
       "16672788      202008        L83004  Frovatriptan  Frovatriptan 2.5mg tablets   \n",
       "\n",
       "          quantity  items  total_quantity    nic  actual_cost unidentified  \\\n",
       "21969          6.0      1             6.0   6.11      5.69344            N   \n",
       "28165         12.0      5            60.0  61.10     56.87244            N   \n",
       "32707          6.0      1             6.0   6.11      5.69344            N   \n",
       "42488         12.0      1            12.0  12.22     11.37449            N   \n",
       "47381         12.0      2            24.0  24.44     22.74898            N   \n",
       "...            ...    ...             ...    ...          ...          ...   \n",
       "16672324       6.0      1             6.0   6.11      5.69344            N   \n",
       "16672325      12.0      2            24.0  24.44     22.74898            N   \n",
       "16672326      24.0      1            24.0  24.44     22.73658            N   \n",
       "16672787       6.0      2            12.0  12.22     11.38689            N   \n",
       "16672788      12.0      1            12.0  12.22     11.37449            N   \n",
       "\n",
       "          normalised_nic  \n",
       "21969               1.02  \n",
       "28165               1.02  \n",
       "32707               1.02  \n",
       "42488               1.02  \n",
       "47381               1.02  \n",
       "...                  ...  \n",
       "16672324            1.02  \n",
       "16672325            1.02  \n",
       "16672326            1.02  \n",
       "16672787            1.02  \n",
       "16672788            1.02  \n",
       "\n",
       "[2831 rows x 11 columns]"
      ]
     },
     "execution_count": 31,
     "metadata": {},
     "output_type": "execute_result"
    }
   ],
   "source": [
    "frova_df = df[df[\"drug_desc\"].str.contains(\"Frovatriptan\")]\n",
    "frova_df"
   ]
  },
  {
   "cell_type": "code",
   "execution_count": 38,
   "metadata": {},
   "outputs": [
    {
     "data": {
      "text/plain": [
       "1.02    0.995761\n",
       "2.64    0.002119\n",
       "1.83    0.001060\n",
       "1.34    0.000353\n",
       "1.56    0.000353\n",
       "1.29    0.000353\n",
       "Name: normalised_nic, dtype: float64"
      ]
     },
     "execution_count": 38,
     "metadata": {},
     "output_type": "execute_result"
    }
   ],
   "source": [
    "frova_df[\"normalised_nic\"].value_counts(normalize = True)"
   ]
  },
  {
   "cell_type": "code",
   "execution_count": 32,
   "metadata": {},
   "outputs": [
    {
     "data": {
      "text/html": [
       "<div>\n",
       "<style scoped>\n",
       "    .dataframe tbody tr th:only-of-type {\n",
       "        vertical-align: middle;\n",
       "    }\n",
       "\n",
       "    .dataframe tbody tr th {\n",
       "        vertical-align: top;\n",
       "    }\n",
       "\n",
       "    .dataframe thead th {\n",
       "        text-align: right;\n",
       "    }\n",
       "</style>\n",
       "<table border=\"1\" class=\"dataframe\">\n",
       "  <thead>\n",
       "    <tr style=\"text-align: right;\">\n",
       "      <th></th>\n",
       "      <th>year_month</th>\n",
       "      <th>practice_code</th>\n",
       "      <th>drug</th>\n",
       "      <th>drug_desc</th>\n",
       "      <th>quantity</th>\n",
       "      <th>items</th>\n",
       "      <th>total_quantity</th>\n",
       "      <th>nic</th>\n",
       "      <th>actual_cost</th>\n",
       "      <th>unidentified</th>\n",
       "      <th>normalised_nic</th>\n",
       "    </tr>\n",
       "  </thead>\n",
       "  <tbody>\n",
       "    <tr>\n",
       "      <th>61973</th>\n",
       "      <td>202008</td>\n",
       "      <td>L83096</td>\n",
       "      <td>Frovatriptan</td>\n",
       "      <td>Migard 2.5mg tablets</td>\n",
       "      <td>12.0</td>\n",
       "      <td>2</td>\n",
       "      <td>24.0</td>\n",
       "      <td>66.68</td>\n",
       "      <td>62.02349</td>\n",
       "      <td>N</td>\n",
       "      <td>2.78</td>\n",
       "    </tr>\n",
       "    <tr>\n",
       "      <th>85206</th>\n",
       "      <td>202008</td>\n",
       "      <td>L83027</td>\n",
       "      <td>Frovatriptan</td>\n",
       "      <td>Migard 2.5mg tablets</td>\n",
       "      <td>18.0</td>\n",
       "      <td>1</td>\n",
       "      <td>18.0</td>\n",
       "      <td>50.01</td>\n",
       "      <td>46.51142</td>\n",
       "      <td>N</td>\n",
       "      <td>2.78</td>\n",
       "    </tr>\n",
       "    <tr>\n",
       "      <th>154203</th>\n",
       "      <td>202008</td>\n",
       "      <td>M85079</td>\n",
       "      <td>Frovatriptan</td>\n",
       "      <td>Migard 2.5mg tablets</td>\n",
       "      <td>24.0</td>\n",
       "      <td>1</td>\n",
       "      <td>24.0</td>\n",
       "      <td>66.68</td>\n",
       "      <td>62.01109</td>\n",
       "      <td>N</td>\n",
       "      <td>2.78</td>\n",
       "    </tr>\n",
       "    <tr>\n",
       "      <th>226027</th>\n",
       "      <td>202008</td>\n",
       "      <td>A82053</td>\n",
       "      <td>Frovatriptan</td>\n",
       "      <td>Migard 2.5mg tablets</td>\n",
       "      <td>6.0</td>\n",
       "      <td>2</td>\n",
       "      <td>12.0</td>\n",
       "      <td>33.34</td>\n",
       "      <td>31.02415</td>\n",
       "      <td>N</td>\n",
       "      <td>2.78</td>\n",
       "    </tr>\n",
       "    <tr>\n",
       "      <th>350130</th>\n",
       "      <td>202008</td>\n",
       "      <td>P82640</td>\n",
       "      <td>Frovatriptan</td>\n",
       "      <td>Migard 2.5mg tablets</td>\n",
       "      <td>6.0</td>\n",
       "      <td>1</td>\n",
       "      <td>6.0</td>\n",
       "      <td>16.67</td>\n",
       "      <td>15.51207</td>\n",
       "      <td>N</td>\n",
       "      <td>2.78</td>\n",
       "    </tr>\n",
       "    <tr>\n",
       "      <th>...</th>\n",
       "      <td>...</td>\n",
       "      <td>...</td>\n",
       "      <td>...</td>\n",
       "      <td>...</td>\n",
       "      <td>...</td>\n",
       "      <td>...</td>\n",
       "      <td>...</td>\n",
       "      <td>...</td>\n",
       "      <td>...</td>\n",
       "      <td>...</td>\n",
       "      <td>...</td>\n",
       "    </tr>\n",
       "    <tr>\n",
       "      <th>16315753</th>\n",
       "      <td>202008</td>\n",
       "      <td>M83129</td>\n",
       "      <td>Frovatriptan</td>\n",
       "      <td>Migard 2.5mg tablets</td>\n",
       "      <td>6.0</td>\n",
       "      <td>1</td>\n",
       "      <td>6.0</td>\n",
       "      <td>16.67</td>\n",
       "      <td>15.51207</td>\n",
       "      <td>N</td>\n",
       "      <td>2.78</td>\n",
       "    </tr>\n",
       "    <tr>\n",
       "      <th>16325603</th>\n",
       "      <td>202008</td>\n",
       "      <td>M85078</td>\n",
       "      <td>Frovatriptan</td>\n",
       "      <td>Migard 2.5mg tablets</td>\n",
       "      <td>12.0</td>\n",
       "      <td>1</td>\n",
       "      <td>12.0</td>\n",
       "      <td>33.34</td>\n",
       "      <td>31.01175</td>\n",
       "      <td>N</td>\n",
       "      <td>2.78</td>\n",
       "    </tr>\n",
       "    <tr>\n",
       "      <th>16456940</th>\n",
       "      <td>202008</td>\n",
       "      <td>K81069</td>\n",
       "      <td>Frovatriptan</td>\n",
       "      <td>Migard 2.5mg tablets</td>\n",
       "      <td>12.0</td>\n",
       "      <td>1</td>\n",
       "      <td>12.0</td>\n",
       "      <td>33.34</td>\n",
       "      <td>31.01175</td>\n",
       "      <td>N</td>\n",
       "      <td>2.78</td>\n",
       "    </tr>\n",
       "    <tr>\n",
       "      <th>16629402</th>\n",
       "      <td>202008</td>\n",
       "      <td>G84023</td>\n",
       "      <td>Frovatriptan</td>\n",
       "      <td>Migard 2.5mg tablets</td>\n",
       "      <td>24.0</td>\n",
       "      <td>1</td>\n",
       "      <td>24.0</td>\n",
       "      <td>66.68</td>\n",
       "      <td>62.01109</td>\n",
       "      <td>N</td>\n",
       "      <td>2.78</td>\n",
       "    </tr>\n",
       "    <tr>\n",
       "      <th>16672327</th>\n",
       "      <td>202008</td>\n",
       "      <td>H85020</td>\n",
       "      <td>Frovatriptan</td>\n",
       "      <td>Migard 2.5mg tablets</td>\n",
       "      <td>24.0</td>\n",
       "      <td>1</td>\n",
       "      <td>24.0</td>\n",
       "      <td>66.68</td>\n",
       "      <td>62.01109</td>\n",
       "      <td>N</td>\n",
       "      <td>2.78</td>\n",
       "    </tr>\n",
       "  </tbody>\n",
       "</table>\n",
       "<p>205 rows × 11 columns</p>\n",
       "</div>"
      ],
      "text/plain": [
       "          year_month practice_code          drug             drug_desc  \\\n",
       "61973         202008        L83096  Frovatriptan  Migard 2.5mg tablets   \n",
       "85206         202008        L83027  Frovatriptan  Migard 2.5mg tablets   \n",
       "154203        202008        M85079  Frovatriptan  Migard 2.5mg tablets   \n",
       "226027        202008        A82053  Frovatriptan  Migard 2.5mg tablets   \n",
       "350130        202008        P82640  Frovatriptan  Migard 2.5mg tablets   \n",
       "...              ...           ...           ...                   ...   \n",
       "16315753      202008        M83129  Frovatriptan  Migard 2.5mg tablets   \n",
       "16325603      202008        M85078  Frovatriptan  Migard 2.5mg tablets   \n",
       "16456940      202008        K81069  Frovatriptan  Migard 2.5mg tablets   \n",
       "16629402      202008        G84023  Frovatriptan  Migard 2.5mg tablets   \n",
       "16672327      202008        H85020  Frovatriptan  Migard 2.5mg tablets   \n",
       "\n",
       "          quantity  items  total_quantity    nic  actual_cost unidentified  \\\n",
       "61973         12.0      2            24.0  66.68     62.02349            N   \n",
       "85206         18.0      1            18.0  50.01     46.51142            N   \n",
       "154203        24.0      1            24.0  66.68     62.01109            N   \n",
       "226027         6.0      2            12.0  33.34     31.02415            N   \n",
       "350130         6.0      1             6.0  16.67     15.51207            N   \n",
       "...            ...    ...             ...    ...          ...          ...   \n",
       "16315753       6.0      1             6.0  16.67     15.51207            N   \n",
       "16325603      12.0      1            12.0  33.34     31.01175            N   \n",
       "16456940      12.0      1            12.0  33.34     31.01175            N   \n",
       "16629402      24.0      1            24.0  66.68     62.01109            N   \n",
       "16672327      24.0      1            24.0  66.68     62.01109            N   \n",
       "\n",
       "          normalised_nic  \n",
       "61973               2.78  \n",
       "85206               2.78  \n",
       "154203              2.78  \n",
       "226027              2.78  \n",
       "350130              2.78  \n",
       "...                  ...  \n",
       "16315753            2.78  \n",
       "16325603            2.78  \n",
       "16456940            2.78  \n",
       "16629402            2.78  \n",
       "16672327            2.78  \n",
       "\n",
       "[205 rows x 11 columns]"
      ]
     },
     "execution_count": 32,
     "metadata": {},
     "output_type": "execute_result"
    }
   ],
   "source": [
    "migard_df = df[df[\"drug_desc\"] == \"Migard 2.5mg tablets\"]\n",
    "migard_df"
   ]
  },
  {
   "cell_type": "code",
   "execution_count": 39,
   "metadata": {},
   "outputs": [
    {
     "data": {
      "text/plain": [
       "2.78    1.0\n",
       "Name: normalised_nic, dtype: float64"
      ]
     },
     "execution_count": 39,
     "metadata": {},
     "output_type": "execute_result"
    }
   ],
   "source": [
    "migard_df[\"normalised_nic\"].value_counts(normalize=True)"
   ]
  },
  {
   "cell_type": "code",
   "execution_count": 40,
   "metadata": {},
   "outputs": [
    {
     "data": {
      "text/plain": [
       "6864.08722"
      ]
     },
     "execution_count": 40,
     "metadata": {},
     "output_type": "execute_result"
    }
   ],
   "source": [
    "migard_df[\"actual_cost\"].sum()"
   ]
  },
  {
   "cell_type": "code",
   "execution_count": 43,
   "metadata": {},
   "outputs": [
    {
     "data": {
      "text/plain": [
       "2656.0"
      ]
     },
     "execution_count": 43,
     "metadata": {},
     "output_type": "execute_result"
    }
   ],
   "source": [
    "migard_df[\"total_quantity\"].sum()"
   ]
  },
  {
   "cell_type": "code",
   "execution_count": 46,
   "metadata": {},
   "outputs": [
    {
     "data": {
      "text/plain": [
       "2709.12"
      ]
     },
     "execution_count": 46,
     "metadata": {},
     "output_type": "execute_result"
    }
   ],
   "source": [
    "1.02*(migard_df[\"total_quantity\"].sum())"
   ]
  },
  {
   "cell_type": "markdown",
   "metadata": {},
   "source": [
    "### Prescribing generic rather than branded version of Frovatriptan could have saved ~£4,000 on 205 prescriptions across England in August 2020"
   ]
  },
  {
   "cell_type": "code",
   "execution_count": 33,
   "metadata": {},
   "outputs": [
    {
     "data": {
      "text/plain": [
       "B81020    2\n",
       "M82023    2\n",
       "B81675    2\n",
       "D82006    2\n",
       "M82013    2\n",
       "         ..\n",
       "M81035    1\n",
       "J82018    1\n",
       "M85779    1\n",
       "P81032    1\n",
       "B81040    1\n",
       "Name: practice_code, Length: 194, dtype: int64"
      ]
     },
     "execution_count": 33,
     "metadata": {},
     "output_type": "execute_result"
    }
   ],
   "source": [
    "migard_df[\"practice_code\"].value_counts()"
   ]
  },
  {
   "cell_type": "markdown",
   "metadata": {},
   "source": [
    "### Further steps\n",
    "\n",
    "#### Generalise method to all drugs and automate to include past and future months\n",
    "\n",
    "1) **Group all drugs by scientific drug name, then dose, then formulation, and finally whether branded or generic.** This will allow comparison of the exact same medication clinically (for most drugs in which the brand is not clinically important) for cost (actual_cost or normalised_nic)\n",
    "\n",
    "2) Plot/compare cost for branded and generic versions of the same drugs\n",
    "- **Calculate difference in normalised_nic between drugs that have been grouped by scientific name, dose & formulation** (which would leave groups of the same medication, except for the branding)\n",
    "- **Sort/plot by normalised_nic_diff to see which drugs have the biggest different in cost between generic & branded version**\n",
    "- **Function of normalised_nic_diff * total_quantity of branded prescription is the definition of drugs liable for the greatest savings**\n",
    "- Starting at the top, could evaluate which drugs had evidence-based indications for prescribing branded versions over generic (e.g. some AEDs, renal drugs etc.): [OpenPrescribing](https://openprescribing.net/national/england/) national page provides a high-level overview of target areas (E.g. ARBs)\n",
    "\n",
    "3) Assess which practices are most commonly prescribing the more expensive version of the drugs over 3/6/etc. month (rolling) periods"
   ]
  }
 ],
 "metadata": {
  "kernelspec": {
   "display_name": "Python 3",
   "language": "python",
   "name": "python3"
  },
  "language_info": {
   "codemirror_mode": {
    "name": "ipython",
    "version": 3
   },
   "file_extension": ".py",
   "mimetype": "text/x-python",
   "name": "python",
   "nbconvert_exporter": "python",
   "pygments_lexer": "ipython3",
   "version": "3.8.3"
  }
 },
 "nbformat": 4,
 "nbformat_minor": 4
}
